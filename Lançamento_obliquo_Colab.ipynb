{
  "nbformat": 4,
  "nbformat_minor": 0,
  "metadata": {
    "colab": {
      "provenance": [],
      "authorship_tag": "ABX9TyMVo4Pak+/GoIFHtoyz0Ywj",
      "include_colab_link": true
    },
    "kernelspec": {
      "name": "python3",
      "display_name": "Python 3"
    },
    "language_info": {
      "name": "python"
    }
  },
  "cells": [
    {
      "cell_type": "markdown",
      "metadata": {
        "id": "view-in-github",
        "colab_type": "text"
      },
      "source": [
        "<a href=\"https://colab.research.google.com/github/WMB25/Oblique-Launch-Simulator_Physics-Project/blob/Code/Lan%C3%A7amento_obliquo_Colab.ipynb\" target=\"_parent\"><img src=\"https://colab.research.google.com/assets/colab-badge.svg\" alt=\"Open In Colab\"/></a>"
      ]
    },
    {
      "cell_type": "code",
      "execution_count": 26,
      "metadata": {
        "id": "zwOYiz22w41d"
      },
      "outputs": [],
      "source": [
        "import os, sys, csv, math"
      ]
    },
    {
      "cell_type": "markdown",
      "source": [
        "O código tem como intuito fazer a simulção de lançamento de uma matéria fisica em um plano carteriano R²."
      ],
      "metadata": {
        "id": "aVINdzJYxdvp"
      }
    },
    {
      "cell_type": "code",
      "source": [
        "print(\"Simulador de Lançamento Obliquo\")"
      ],
      "metadata": {
        "id": "jHZI4OVoxXXK",
        "colab": {
          "base_uri": "https://localhost:8080/"
        },
        "outputId": "733853a6-6d6f-4c65-e449-3cf2c2c26bfe"
      },
      "execution_count": 27,
      "outputs": [
        {
          "output_type": "stream",
          "name": "stdout",
          "text": [
            "Simulador de Lançamento Obliquo\n"
          ]
        }
      ]
    },
    {
      "cell_type": "markdown",
      "source": [
        "Alguns dados do lançamento serão constantes!\n",
        "\n",
        "Informações constantes:\n",
        "*   Gravidade.\n",
        "*   Dados do Objeto.\n",
        "*   Densidade do Ar.\n",
        "\n",
        "Nosso objeto de lançamento é uma bola de boliche e seu peso é 2.75 KG.\n",
        "\n",
        "Nossa gravidade (𝑔) é  9.81 que é a aproximação na Terra."
      ],
      "metadata": {
        "id": "pRg04FhKFu6J"
      }
    },
    {
      "cell_type": "code",
      "source": [
        "GRAVITY = 9.81\n",
        "MASS = 2.75\n",
        "AREA = math.pi * (0.1)**2\n",
        "DRAG_COEFFICIENT = 0.47\n",
        "AIR_DENSITY = 1.225"
      ],
      "metadata": {
        "id": "Rz1d0IO0GmaD"
      },
      "execution_count": 28,
      "outputs": []
    },
    {
      "cell_type": "markdown",
      "source": [
        "Nós podemos controlar a velocidade (𝑣0), ângulo (θ) e intervalo de lançamento, de cada simulação de lançamento."
      ],
      "metadata": {
        "id": "4Oc35FSM_RI8"
      }
    },
    {
      "cell_type": "code",
      "source": [
        "velocity = float(input(\"Digite a velocidade inicial (m/s): \"))\n",
        "angle = math.radians(float(input(\"Digite o ângulo de lançamento (graus): \")))\n",
        "time_step = float(input(\"Digite o intervalo de tempo para cálculo (s): \"))"
      ],
      "metadata": {
        "colab": {
          "base_uri": "https://localhost:8080/"
        },
        "id": "2I4zNMm_yAM9",
        "outputId": "7d607190-0b0d-4dfa-8f71-e3ab8e74a457"
      },
      "execution_count": 29,
      "outputs": [
        {
          "name": "stdout",
          "output_type": "stream",
          "text": [
            "Digite a velocidade inicial (m/s): 20\n",
            "Digite o ângulo de lançamento (graus): 30\n",
            "Digite o intervalo de tempo para cálculo (s): 0.1\n"
          ]
        }
      ]
    },
    {
      "cell_type": "markdown",
      "source": [
        "Nossa simulação de lançamento utilizará as funções:\n",
        "\n",
        "𝐓 = tempo\n",
        "*   Tempo de Voo = [(2 × 𝑣0 × sen(θ))/𝑔]\n",
        "*   velocidade na horozontal -> [𝑣0 × cos(θ) × 𝐓]\n",
        "*   velocidade na vertical -> [(𝑣0 × sin(θ) × 𝐓) - (½ × 𝑔 × 𝐓²)]"
      ],
      "metadata": {
        "id": "RlCKZ8P7AAG1"
      }
    },
    {
      "cell_type": "code",
      "source": [
        "def Launch_oblique(velocity, angle, time_step):\n",
        "    x, y, time = 0.0, 0.0, 0.0\n",
        "\n",
        "    velocity_x = velocity * math.cos(angle)\n",
        "    velocity_y = velocity * math.sin(angle)\n",
        "\n",
        "    positions = []\n",
        "\n",
        "    while y >= 0:\n",
        "        velocity_total = math.sqrt((velocity_x**2) + (velocity_y**2))\n",
        "\n",
        "        drag_force = 0.5 * AIR_DENSITY * velocity_total**2 * AREA * DRAG_COEFFICIENT\n",
        "\n",
        "        if(velocity_total > 0):\n",
        "            drag_acelaration_x = - (drag_force / MASS) * (velocity_x / velocity_total)\n",
        "            drag_acelaration_y = - (drag_force / MASS) * (velocity_y / velocity_total)\n",
        "        else:\n",
        "            drag_acelaration_x = 0\n",
        "            drag_acelaration_y = 0\n",
        "\n",
        "        acceleration_x = drag_acelaration_x\n",
        "        acceleration_y = -GRAVITY + drag_acelaration_y\n",
        "\n",
        "        velocity_x += acceleration_x * time_step\n",
        "        velocity_y += acceleration_y * time_step\n",
        "        x += velocity_x * time_step\n",
        "        y += velocity_y * time_step\n",
        "\n",
        "        positions.append((time, x, y))\n",
        "        time += time_step\n",
        "\n",
        "        if time > 1000:\n",
        "            break\n",
        "    return positions"
      ],
      "metadata": {
        "id": "yV0GTDRy6-Gt"
      },
      "execution_count": 44,
      "outputs": []
    },
    {
      "cell_type": "markdown",
      "source": [
        "iniciação do lançamento e informações de lançamento:"
      ],
      "metadata": {
        "id": "F-uTedMqKEOb"
      }
    },
    {
      "cell_type": "code",
      "source": [
        "positions = Launch_oblique(velocity, angle, time_step)\n",
        "\n",
        "print(f\"\\nDados do lançamento:\")\n",
        "print(f\"Massa: {MASS} kg\")\n",
        "print(f\"Área: {AREA} m²\")\n",
        "print(f\"Coeficiente de arrasto: {DRAG_COEFFICIENT}\")\n",
        "print(f\"Densidade do ar: {AIR_DENSITY} kg/m³\")\n",
        "print(f\"Gravidade: {GRAVITY} m/s²\\n\")"
      ],
      "metadata": {
        "id": "iTDuZj0s8ZEH",
        "colab": {
          "base_uri": "https://localhost:8080/"
        },
        "outputId": "dcbfc776-dc30-4c65-8e37-af8943684ca0"
      },
      "execution_count": 45,
      "outputs": [
        {
          "output_type": "stream",
          "name": "stdout",
          "text": [
            "\n",
            "Dados do lançamento:\n",
            "Massa: 2.75 kg\n",
            "Área: 0.031415926535897934 m²\n",
            "Coeficiente de arrasto: 0.47\n",
            "Densidade do ar: 1.225 kg/m³\n",
            "Gravidade: 9.81 m/s²\n",
            "\n"
          ]
        }
      ]
    },
    {
      "cell_type": "markdown",
      "source": [
        "Saída Para o User:"
      ],
      "metadata": {
        "id": "4YJJwKhjOJGW"
      }
    },
    {
      "cell_type": "code",
      "source": [
        "print(\"          Dados da Simulação\\n\")\n",
        "print(\"{:<10} {:<15} {:<15}\".format(\"Tempo (s)\", \"Posição X (m)\", \"Posição Y (m)\"))\n",
        "for point in positions:\n",
        "  print(\"{:<10.3f} {:<15.3f} {:<15.3f}\".format(point[0], point[1], point[2]))"
      ],
      "metadata": {
        "colab": {
          "base_uri": "https://localhost:8080/"
        },
        "id": "vgMflvJtCI1l",
        "outputId": "7b57cecc-02dc-416e-91d5-9b40ab3f3970"
      },
      "execution_count": 46,
      "outputs": [
        {
          "output_type": "stream",
          "name": "stdout",
          "text": [
            "          Dados da Simulação\n",
            "\n",
            "Tempo (s)  Posição X (m)   Posição Y (m)  \n",
            "0.000      1.721           0.895          \n",
            "0.100      3.430           1.687          \n",
            "0.200      5.129           2.375          \n",
            "0.300      6.818           2.962          \n",
            "0.400      8.497           3.446          \n",
            "0.500      10.166          3.830          \n",
            "0.600      11.826          4.114          \n",
            "0.700      13.477          4.298          \n",
            "0.800      15.119          4.382          \n",
            "0.900      16.751          4.369          \n",
            "1.000      18.375          4.257          \n",
            "1.100      19.991          4.048          \n",
            "1.200      21.597          3.741          \n",
            "1.300      23.195          3.338          \n",
            "1.400      24.785          2.840          \n",
            "1.500      26.365          2.246          \n",
            "1.600      27.937          1.557          \n",
            "1.700      29.500          0.774          \n",
            "1.800      31.054          -0.103         \n"
          ]
        }
      ]
    },
    {
      "cell_type": "markdown",
      "source": [
        "Criação do arquivo CSV."
      ],
      "metadata": {
        "id": "_-CWZCWh_DSt"
      }
    },
    {
      "cell_type": "code",
      "source": [
        "with open(\"Lancamento_obliquo.csv\", \"w\", newline='') as file:\n",
        "  writer = csv.writer(file)\n",
        "  writer.writerow([\"Tempo (s)\", \"Posição X (m)\", \"Posição Y (m)\"])\n",
        "  for point in positions:\n",
        "    writer.writerow([round(point[0], 3), round(point[1], 3), round(point[2], 3)])\n",
        "\n",
        "  print(\"Dados salvos em 'Lançameto_obliquo.csv'\")"
      ],
      "metadata": {
        "id": "JRneDVlc8ggJ",
        "colab": {
          "base_uri": "https://localhost:8080/"
        },
        "outputId": "46e21812-7d1f-4b8d-85c1-25373757c32e"
      },
      "execution_count": 47,
      "outputs": [
        {
          "output_type": "stream",
          "name": "stdout",
          "text": [
            "Dados salvos em 'Lançameto_obliquo.csv'\n"
          ]
        }
      ]
    },
    {
      "cell_type": "markdown",
      "source": [
        "Simulação com tela gráfica e interativa: [Simulador de Lançamento](https://editor.p5js.org/WALIS/full/jO0xOZ3lA)\n",
        "\n",
        "Nome: Walison M.B\n",
        "\n",
        "Curso: BCC\n",
        "\n",
        "Turma: B"
      ],
      "metadata": {
        "id": "S4NfaeDFOjIC"
      }
    }
  ]
}