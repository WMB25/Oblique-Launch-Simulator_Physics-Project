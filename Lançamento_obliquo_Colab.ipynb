{
  "nbformat": 4,
  "nbformat_minor": 0,
  "metadata": {
    "colab": {
      "provenance": [],
      "authorship_tag": "ABX9TyMju3/FtJXTZ3Z2S5bBoXmj",
      "include_colab_link": true
    },
    "kernelspec": {
      "name": "python3",
      "display_name": "Python 3"
    },
    "language_info": {
      "name": "python"
    }
  },
  "cells": [
    {
      "cell_type": "markdown",
      "metadata": {
        "id": "view-in-github",
        "colab_type": "text"
      },
      "source": [
        "<a href=\"https://colab.research.google.com/github/WMB25/Oblique-Launch-Simulator_Physics-Project/blob/Code/Lan%C3%A7amento_obliquo_Colab.ipynb\" target=\"_parent\"><img src=\"https://colab.research.google.com/assets/colab-badge.svg\" alt=\"Open In Colab\"/></a>"
      ]
    },
    {
      "cell_type": "markdown",
      "source": [
        "## Projeto de Lançameto Obliquo"
      ],
      "metadata": {
        "id": "Ts7EPncSv72Y"
      }
    },
    {
      "cell_type": "markdown",
      "source": [
        "O código tem como intuito fazer a simulção de lançamento de uma matéria fisica em um plano carteriano R²."
      ],
      "metadata": {
        "id": "aVINdzJYxdvp"
      }
    },
    {
      "cell_type": "code",
      "execution_count": 2,
      "metadata": {
        "id": "zwOYiz22w41d"
      },
      "outputs": [],
      "source": [
        "import os, sys, csv, math"
      ]
    },
    {
      "cell_type": "markdown",
      "source": [
        "Alguns dos nossos dados (valores) de lançamento serão constantes!\n",
        "\n",
        "Informações constantes:\n",
        "*   Gravidade.\n",
        "*   Dados do Objeto.\n",
        "*   Densidade do Ar.\n",
        "*   Arrasto.\n",
        "*   Denisidade do ar.\n",
        "\n",
        "\n",
        "Nosso objeto de lançamento é uma bola de boliche e seu peso é 2.75 KG."
      ],
      "metadata": {
        "id": "pRg04FhKFu6J"
      }
    },
    {
      "cell_type": "code",
      "source": [
        "GRAVITY = 9.81\n",
        "MASS = 2.75\n",
        "AREA = math.pi * (0.1)**2\n",
        "DRAG_COEFFICIENT = 0.47\n",
        "AIR_DENSITY = 1.225"
      ],
      "metadata": {
        "id": "Rz1d0IO0GmaD"
      },
      "execution_count": 3,
      "outputs": []
    },
    {
      "cell_type": "markdown",
      "source": [
        "Nós podemos controlar a velocidade (𝑣0), ângulo (θ) e intervalo de lançamento, de cada simulação de lançamento."
      ],
      "metadata": {
        "id": "4Oc35FSM_RI8"
      }
    },
    {
      "cell_type": "code",
      "source": [
        "velocity = float(input(\"Digite a velocidade inicial (m/s): \"))\n",
        "angle = math.radians(float(input(\"Digite o ângulo de lançamento (graus): \")))\n",
        "time_step = float(input(\"Digite o intervalo de tempo para cálculo (s): \"))\n",
        "mech_force_magnitude = float(input(\"Digite a força mecânica (N): \"))\n",
        "mech_force_angle = math.radians(float(input(\"Digite o ângulo da força mecânica (graus): \")))"
      ],
      "metadata": {
        "colab": {
          "base_uri": "https://localhost:8080/"
        },
        "id": "2I4zNMm_yAM9",
        "outputId": "44330804-f976-4c30-f993-be00b145be84"
      },
      "execution_count": 4,
      "outputs": [
        {
          "name": "stdout",
          "output_type": "stream",
          "text": [
            "Digite a velocidade inicial (m/s): 20\n",
            "Digite o ângulo de lançamento (graus): 60\n",
            "Digite o intervalo de tempo para cálculo (s): 0.1\n",
            "Digite a força mecânica (N): 20\n",
            "Digite o ângulo da força mecânica (graus): 10\n"
          ]
        }
      ]
    },
    {
      "cell_type": "markdown",
      "source": [
        "Nossa simulação de lançamento utilizará as funções:\n",
        "\n",
        "Movimento Horizontal:\n",
        "  $$x(t) = v_0 \\cos(\\theta) \\cdot t$$\n",
        "\n",
        "Movimento Vertical:\n",
        "$$y(t) = v_0 \\sin(\\theta) \\cdot t - \\frac{1}{2} g t^2$$\n",
        "\n",
        "...\n"
      ],
      "metadata": {
        "id": "RlCKZ8P7AAG1"
      }
    },
    {
      "cell_type": "code",
      "source": [
        "def Launch_oblique(velocity, angle, time_step, mech_force_magnitude, mech_force_angle):\n",
        "    x, y, time = 0.0, 0.0, 0.0\n",
        "\n",
        "    velocity_x = velocity * math.cos(angle)\n",
        "    velocity_y = velocity * math.sin(angle)\n",
        "\n",
        "    mech_force_x = mech_force_magnitude * math.cos(mech_force_angle)\n",
        "    mech_force_y = mech_force_magnitude * math.sin(mech_force_angle)\n",
        "\n",
        "    positions = []\n",
        "\n",
        "    while y >= 0:\n",
        "        velocity_total = math.sqrt((velocity_x**2) + (velocity_y**2))\n",
        "        drag_force = 0.5 * AIR_DENSITY * velocity_total**2 * AREA * DRAG_COEFFICIENT\n",
        "\n",
        "        if(velocity_total > 0):\n",
        "            drag_acelaration_x = - (drag_force / MASS) * (velocity_x / velocity_total)\n",
        "            drag_acelaration_y = - (drag_force / MASS) * (velocity_y / velocity_total)\n",
        "        else:\n",
        "            drag_acelaration_x = 0\n",
        "            drag_acelaration_y = 0\n",
        "\n",
        "        mech_acceleration_x = mech_force_x / MASS\n",
        "        mech_acceleration_y = mech_force_y / MASS\n",
        "\n",
        "        acceleration_x = drag_acelaration_x\n",
        "        acceleration_y = -GRAVITY + drag_acelaration_y\n",
        "\n",
        "        velocity_x += acceleration_x * time_step\n",
        "        velocity_y += acceleration_y * time_step\n",
        "        x += velocity_x * time_step\n",
        "        y += velocity_y * time_step\n",
        "\n",
        "        positions.append((\n",
        "            time, x, y,\n",
        "            velocity_x, velocity_y, velocity_total,\n",
        "            acceleration_x, acceleration_y,\n",
        "            drag_force, mech_force_x, mech_force_y\n",
        "            ))\n",
        "\n",
        "        time += time_step\n",
        "        if time > 1000:\n",
        "            break\n",
        "\n",
        "    return positions"
      ],
      "metadata": {
        "id": "yV0GTDRy6-Gt"
      },
      "execution_count": 5,
      "outputs": []
    },
    {
      "cell_type": "markdown",
      "source": [
        "iniciação do lançamento e informações de lançamento:"
      ],
      "metadata": {
        "id": "F-uTedMqKEOb"
      }
    },
    {
      "cell_type": "code",
      "source": [
        "positions = Launch_oblique(velocity, angle, time_step, mech_force_magnitude, mech_force_angle)\n",
        "\n",
        "print(f\"\\nDados do lançamento:\")\n",
        "print(f\"Massa: {MASS} kg\")\n",
        "print(f\"Área: {AREA} m²\")\n",
        "print(f\"Coeficiente de arrasto: {DRAG_COEFFICIENT}\")\n",
        "print(f\"Densidade do ar: {AIR_DENSITY} kg/m³\")\n",
        "print(f\"Gravidade: {GRAVITY} m/s²\")\n",
        "print(f\"Força Mecânica: {mech_force_magnitude} N\")\n",
        "print(f\"Ângulo da Força Mecânica: {math.degrees(mech_force_angle):.1f}º\\n\")"
      ],
      "metadata": {
        "id": "iTDuZj0s8ZEH",
        "colab": {
          "base_uri": "https://localhost:8080/"
        },
        "outputId": "da5f702c-44c8-4057-a689-655395809139"
      },
      "execution_count": 6,
      "outputs": [
        {
          "output_type": "stream",
          "name": "stdout",
          "text": [
            "\n",
            "Dados do lançamento:\n",
            "Massa: 2.75 kg\n",
            "Área: 0.031415926535897934 m²\n",
            "Coeficiente de arrasto: 0.47\n",
            "Densidade do ar: 1.225 kg/m³\n",
            "Gravidade: 9.81 m/s²\n",
            "Força Mecânica: 20.0 N\n",
            "Ângulo da Força Mecânica: 10.0º\n",
            "\n"
          ]
        }
      ]
    },
    {
      "cell_type": "markdown",
      "source": [
        "Saída Para o User:"
      ],
      "metadata": {
        "id": "4YJJwKhjOJGW"
      }
    },
    {
      "cell_type": "code",
      "source": [
        "print(\"          Dados da Simulação\\n\")\n",
        "print(\"{:<10} {:<15} {:<15}\".format(\"Tempo (s)\", \"Posição X (m)\", \"Posição Y (m)\"))\n",
        "for point in positions:\n",
        "  print(\"{:<10.3f} {:<15.3f} {:<15.3f}\".format(point[0], point[1], point[2]))"
      ],
      "metadata": {
        "colab": {
          "base_uri": "https://localhost:8080/"
        },
        "id": "vgMflvJtCI1l",
        "outputId": "1b8d9ae1-26f4-4c76-ab4a-138bb3941c8f"
      },
      "execution_count": 7,
      "outputs": [
        {
          "output_type": "stream",
          "name": "stdout",
          "text": [
            "          Dados da Simulação\n",
            "\n",
            "Tempo (s)  Posição X (m)   Posição Y (m)  \n",
            "0.000      0.993           1.623          \n",
            "0.100      1.981           3.137          \n",
            "0.200      2.962           4.544          \n",
            "0.300      3.938           5.845          \n",
            "0.400      4.908           7.041          \n",
            "0.500      5.874           8.133          \n",
            "0.600      6.835           9.122          \n",
            "0.700      7.792           10.008         \n",
            "0.800      8.744           10.792         \n",
            "0.900      9.693           11.475         \n",
            "1.000      10.638          12.057         \n",
            "1.100      11.580          12.539         \n",
            "1.200      12.518          12.921         \n",
            "1.300      13.453          13.204         \n",
            "1.400      14.385          13.388         \n",
            "1.500      15.315          13.473         \n",
            "1.600      16.241          13.459         \n",
            "1.700      17.165          13.348         \n",
            "1.800      18.086          13.139         \n",
            "1.900      19.004          12.832         \n",
            "2.000      19.919          12.429         \n",
            "2.100      20.831          11.928         \n",
            "2.200      21.739          11.331         \n",
            "2.300      22.645          10.638         \n",
            "2.400      23.547          9.850          \n",
            "2.500      24.446          8.967          \n",
            "2.600      25.341          7.989          \n",
            "2.700      26.232          6.917          \n",
            "2.800      27.119          5.753          \n",
            "2.900      28.002          4.495          \n",
            "3.000      28.880          3.146          \n",
            "3.100      29.754          1.706          \n",
            "3.200      30.622          0.176          \n",
            "3.300      31.486          -1.443         \n"
          ]
        }
      ]
    },
    {
      "cell_type": "markdown",
      "source": [
        "Criação do arquivo CSV."
      ],
      "metadata": {
        "id": "_-CWZCWh_DSt"
      }
    },
    {
      "cell_type": "code",
      "source": [
        "simulation_params = {\n",
        "    \"Velocidade Inicial\": f\"{velocity} m/s\",\n",
        "    \"Ângulo de Lançamento\": f\"{math.degrees(angle):.1f}°\",\n",
        "    \"Massa\": f\"{MASS} kg\",\n",
        "    \"Gravidade\": f\"{GRAVITY} m/s²\",\n",
        "    \"Força Mecânica\": f\"{mech_force_magnitude} N\",\n",
        "    \"Ângulo da Força\": f\"{math.degrees(mech_force_angle):.1f}°\"\n",
        "}\n",
        "\n",
        "with open(\"lancamento_obliquo.csv\", \"w\", newline='', encoding='utf-8') as file:\n",
        "    file.write(\"# SIMULAÇÃO DE LANÇAMENTO OBLÍQUO\\n\")\n",
        "    file.write(\"# Parâmetros da simulação:\\n\")\n",
        "    for key, value in simulation_params.items():\n",
        "        file.write(f\"# {key}: {value}\\n\")\n",
        "    file.write(\"#\\n\")\n",
        "\n",
        "    fieldnames = [\n",
        "        \"tempo_s\", \"posicao_x_m\", \"posicao_y_m\",\n",
        "        \"velocidade_x_ms\", \"velocidade_y_ms\", \"velocidade_total_ms\",\n",
        "        \"aceleracao_x_ms2\", \"aceleracao_y_ms2\",\n",
        "        \"forca_arrasto_n\", \"forca_mecanica_x_n\", \"forca_mecanica_y_n\"\n",
        "    ]\n",
        "\n",
        "    writer = csv.DictWriter(file, fieldnames=fieldnames)\n",
        "    writer.writeheader()\n",
        "\n",
        "    for point in positions:\n",
        "        writer.writerow({\n",
        "            \"tempo_s\": round(point[0], 4),\n",
        "            \"posicao_x_m\": round(point[1], 4),\n",
        "            \"posicao_y_m\": round(point[2], 4),\n",
        "            \"velocidade_x_ms\": round(point[3], 4),\n",
        "            \"velocidade_y_ms\": round(point[4], 4),\n",
        "            \"velocidade_total_ms\": round(point[5], 4),\n",
        "            \"aceleracao_x_ms2\": round(point[6], 4),\n",
        "            \"aceleracao_y_ms2\": round(point[7], 4),\n",
        "            \"forca_arrasto_n\": round(point[8], 4),\n",
        "            \"forca_mecanica_x_n\": round(point[9], 4),\n",
        "            \"forca_mecanica_y_n\": round(point[10], 4)\n",
        "        })\n",
        "\n",
        "print(\"Dados salvos organizadamente em 'lancamento_obliquo.csv'\")"
      ],
      "metadata": {
        "id": "JRneDVlc8ggJ",
        "colab": {
          "base_uri": "https://localhost:8080/"
        },
        "outputId": "081cbaed-efbe-49d1-ba31-bd97d9349f06"
      },
      "execution_count": 10,
      "outputs": [
        {
          "output_type": "stream",
          "name": "stdout",
          "text": [
            "Dados salvos organizadamente em 'lancamento_obliquo.csv'\n"
          ]
        }
      ]
    },
    {
      "cell_type": "markdown",
      "source": [
        "Simulação com tela gráfica e interativa: [Simulador de Lançamento](https://editor.p5js.org/WALIS/full/jO0xOZ3lA)\n",
        "\n",
        "Nome: Walison M.B\n",
        "\n",
        "Curso: BCC\n",
        "\n",
        "Turma: B"
      ],
      "metadata": {
        "id": "S4NfaeDFOjIC"
      }
    }
  ]
}